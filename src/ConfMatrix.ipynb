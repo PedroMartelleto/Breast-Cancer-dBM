{
 "cells": [
  {
   "cell_type": "code",
   "execution_count": 1,
   "metadata": {},
   "outputs": [],
   "source": [
    "%load_ext autoreload\n",
    "%autoreload 2"
   ]
  },
  {
   "cell_type": "code",
   "execution_count": 4,
   "metadata": {},
   "outputs": [
    {
     "name": "stdout",
     "output_type": "stream",
     "text": [
      "normal 26\n",
      "malignant 44\n",
      "benign 83\n"
     ]
    }
   ],
   "source": [
    "# Count number of files in test set\n",
    "import os\n",
    "from pathlib import Path\n",
    "from globals import TEST_DS_PATH\n",
    "\n",
    "# Count number of files in test set\n",
    "def count_files(path):\n",
    "    return len(list(Path(path).glob(\"*\")))\n",
    "\n",
    "n_normal = count_files(f\"{TEST_DS_PATH}/normal\")\n",
    "n_malignant = count_files(f\"{TEST_DS_PATH}/malignant\")\n",
    "n_benign = count_files(f\"{TEST_DS_PATH}/benign\")\n",
    "\n",
    "print(\"normal\", n_normal)\n",
    "print(\"malignant\", n_malignant)\n",
    "print(\"benign\", n_benign)\n"
   ]
  },
  {
   "cell_type": "code",
   "execution_count": 5,
   "metadata": {},
   "outputs": [
    {
     "data": {
      "text/html": [
       "<div>\n",
       "<style scoped>\n",
       "    .dataframe tbody tr th:only-of-type {\n",
       "        vertical-align: middle;\n",
       "    }\n",
       "\n",
       "    .dataframe tbody tr th {\n",
       "        vertical-align: top;\n",
       "    }\n",
       "\n",
       "    .dataframe thead th {\n",
       "        text-align: right;\n",
       "    }\n",
       "</style>\n",
       "<table border=\"1\" class=\"dataframe\">\n",
       "  <thead>\n",
       "    <tr style=\"text-align: right;\">\n",
       "      <th></th>\n",
       "      <th>normal</th>\n",
       "      <th>malignant</th>\n",
       "      <th>benign</th>\n",
       "    </tr>\n",
       "  </thead>\n",
       "  <tbody>\n",
       "    <tr>\n",
       "      <th>benign</th>\n",
       "      <td>0.019277</td>\n",
       "      <td>0.063855</td>\n",
       "      <td>0.916867</td>\n",
       "    </tr>\n",
       "    <tr>\n",
       "      <th>malignant</th>\n",
       "      <td>0.072727</td>\n",
       "      <td>0.727273</td>\n",
       "      <td>0.200000</td>\n",
       "    </tr>\n",
       "    <tr>\n",
       "      <th>normal</th>\n",
       "      <td>0.819231</td>\n",
       "      <td>0.146154</td>\n",
       "      <td>0.034615</td>\n",
       "    </tr>\n",
       "  </tbody>\n",
       "</table>\n",
       "</div>"
      ],
      "text/plain": [
       "             normal  malignant    benign\n",
       "benign     0.019277   0.063855  0.916867\n",
       "malignant  0.072727   0.727273  0.200000\n",
       "normal     0.819231   0.146154  0.034615"
      ]
     },
     "execution_count": 5,
     "metadata": {},
     "output_type": "execute_result"
    }
   ],
   "source": [
    "import globals\n",
    "import os\n",
    "import pandas as pd\n",
    "\n",
    "# Loads confusion matrices from each CV, calculates the mean and standard deviation\n",
    "# and saves them to a file\n",
    "\n",
    "name = \"rects\"\n",
    "RANDOM_INIT_EXP_NAMES = [f\"{name}-random-{seed}\" for seed in globals.SEEDS]\n",
    "paths = [os.path.join(globals.BASE_PATH, \"experiments\", n, f\"conf_matrix_{n}.csv\") for n in RANDOM_INIT_EXP_NAMES]\n",
    "\n",
    "conf_matrices = [pd.read_csv(path, index_col=0) for path in paths]\n",
    "\n",
    "mean_conf_matrix = pd.concat(conf_matrices).groupby(level=0).mean()\n",
    "std_conf_matrix = pd.concat(conf_matrices).groupby(level=0).std()\n",
    "\n",
    "mean_conf_matrix"
   ]
  },
  {
   "cell_type": "code",
   "execution_count": 6,
   "metadata": {},
   "outputs": [
    {
     "data": {
      "text/html": [
       "<div>\n",
       "<style scoped>\n",
       "    .dataframe tbody tr th:only-of-type {\n",
       "        vertical-align: middle;\n",
       "    }\n",
       "\n",
       "    .dataframe tbody tr th {\n",
       "        vertical-align: top;\n",
       "    }\n",
       "\n",
       "    .dataframe thead th {\n",
       "        text-align: right;\n",
       "    }\n",
       "</style>\n",
       "<table border=\"1\" class=\"dataframe\">\n",
       "  <thead>\n",
       "    <tr style=\"text-align: right;\">\n",
       "      <th></th>\n",
       "      <th>normal</th>\n",
       "      <th>malignant</th>\n",
       "      <th>benign</th>\n",
       "    </tr>\n",
       "  </thead>\n",
       "  <tbody>\n",
       "    <tr>\n",
       "      <th>benign</th>\n",
       "      <td>0.014142</td>\n",
       "      <td>0.024130</td>\n",
       "      <td>0.032848</td>\n",
       "    </tr>\n",
       "    <tr>\n",
       "      <th>malignant</th>\n",
       "      <td>0.046454</td>\n",
       "      <td>0.056692</td>\n",
       "      <td>0.046454</td>\n",
       "    </tr>\n",
       "    <tr>\n",
       "      <th>normal</th>\n",
       "      <td>0.044596</td>\n",
       "      <td>0.030339</td>\n",
       "      <td>0.046047</td>\n",
       "    </tr>\n",
       "  </tbody>\n",
       "</table>\n",
       "</div>"
      ],
      "text/plain": [
       "             normal  malignant    benign\n",
       "benign     0.014142   0.024130  0.032848\n",
       "malignant  0.046454   0.056692  0.046454\n",
       "normal     0.044596   0.030339  0.046047"
      ]
     },
     "execution_count": 6,
     "metadata": {},
     "output_type": "execute_result"
    }
   ],
   "source": [
    "std_conf_matrix"
   ]
  },
  {
   "cell_type": "code",
   "execution_count": 7,
   "metadata": {},
   "outputs": [
    {
     "name": "stdout",
     "output_type": "stream",
     "text": [
      "Overall mean accuracy: 0.845751633986928\n",
      "Overall std accuracy: 0.04170166060654578\n"
     ]
    }
   ],
   "source": [
    "overall_mean_acc = (n_normal * mean_conf_matrix['normal']['normal'] + n_malignant * mean_conf_matrix['malignant']['malignant'] + n_benign * mean_conf_matrix['benign']['benign']) / (n_normal + n_malignant + n_benign)\n",
    "overall_std_acc = (n_normal * std_conf_matrix['normal']['normal'] + n_malignant * std_conf_matrix['malignant']['malignant'] + n_benign * std_conf_matrix['benign']['benign']) / (n_normal + n_malignant + n_benign)\n",
    "\n",
    "print(\"Overall mean accuracy:\", overall_mean_acc)\n",
    "print(\"Overall std accuracy:\", overall_std_acc)\n",
    "\n",
    "mean_conf_matrix.to_csv(f\"../results/{name}_mean_conf_matrix.csv\")\n",
    "std_conf_matrix.to_csv(f\"../results/{name}_std_conf_matrix.csv\")\n",
    "\n",
    "with open(f\"../results/{name}_mean_acc.txt\", \"w\") as f:\n",
    "    f.write(str(overall_mean_acc))\n",
    "\n",
    "with open(f\"../results/{name}_std_acc.txt\", \"w\") as f:\n",
    "    f.write(str(overall_std_acc))"
   ]
  },
  {
   "cell_type": "code",
   "execution_count": 15,
   "metadata": {},
   "outputs": [],
   "source": []
  }
 ],
 "metadata": {
  "kernelspec": {
   "display_name": "Python 3",
   "language": "python",
   "name": "python3"
  },
  "language_info": {
   "codemirror_mode": {
    "name": "ipython",
    "version": 3
   },
   "file_extension": ".py",
   "mimetype": "text/x-python",
   "name": "python",
   "nbconvert_exporter": "python",
   "pygments_lexer": "ipython3",
   "version": "3.10.6"
  },
  "orig_nbformat": 4,
  "vscode": {
   "interpreter": {
    "hash": "31f2aee4e71d21fbe5cf8b01ff0e069b9275f58929596ceb00d14d90e3e16cd6"
   }
  }
 },
 "nbformat": 4,
 "nbformat_minor": 2
}
