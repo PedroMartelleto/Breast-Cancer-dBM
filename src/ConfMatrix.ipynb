{
 "cells": [
  {
   "cell_type": "code",
   "execution_count": 1,
   "metadata": {},
   "outputs": [],
   "source": [
    "%load_ext autoreload\n",
    "%autoreload 2"
   ]
  },
  {
   "cell_type": "code",
   "execution_count": 2,
   "metadata": {},
   "outputs": [
    {
     "name": "stdout",
     "output_type": "stream",
     "text": [
      "normal 25\n",
      "malignant 52\n",
      "benign 79\n"
     ]
    }
   ],
   "source": [
    "# Count number of files in test set\n",
    "import os\n",
    "from pathlib import Path\n",
    "from globals import TEST_DS_PATH\n",
    "\n",
    "# Count number of files in test set\n",
    "def count_files(path):\n",
    "    return len(list(Path(path).glob(\"*\")))\n",
    "\n",
    "n_normal = count_files(f\"{TEST_DS_PATH}/normal\")\n",
    "n_malignant = count_files(f\"{TEST_DS_PATH}/malignant\")\n",
    "n_benign = count_files(f\"{TEST_DS_PATH}/benign\")\n",
    "\n",
    "print(\"normal\", n_normal)\n",
    "print(\"malignant\", n_malignant)\n",
    "print(\"benign\", n_benign)\n"
   ]
  },
  {
   "cell_type": "code",
   "execution_count": 3,
   "metadata": {},
   "outputs": [
    {
     "data": {
      "text/html": [
       "<div>\n",
       "<style scoped>\n",
       "    .dataframe tbody tr th:only-of-type {\n",
       "        vertical-align: middle;\n",
       "    }\n",
       "\n",
       "    .dataframe tbody tr th {\n",
       "        vertical-align: top;\n",
       "    }\n",
       "\n",
       "    .dataframe thead th {\n",
       "        text-align: right;\n",
       "    }\n",
       "</style>\n",
       "<table border=\"1\" class=\"dataframe\">\n",
       "  <thead>\n",
       "    <tr style=\"text-align: right;\">\n",
       "      <th></th>\n",
       "      <th>normal</th>\n",
       "      <th>malignant</th>\n",
       "      <th>benign</th>\n",
       "    </tr>\n",
       "  </thead>\n",
       "  <tbody>\n",
       "    <tr>\n",
       "      <th>benign</th>\n",
       "      <td>0.001266</td>\n",
       "      <td>0.017722</td>\n",
       "      <td>0.981013</td>\n",
       "    </tr>\n",
       "    <tr>\n",
       "      <th>malignant</th>\n",
       "      <td>0.000000</td>\n",
       "      <td>0.936538</td>\n",
       "      <td>0.063462</td>\n",
       "    </tr>\n",
       "    <tr>\n",
       "      <th>normal</th>\n",
       "      <td>0.984000</td>\n",
       "      <td>0.004000</td>\n",
       "      <td>0.012000</td>\n",
       "    </tr>\n",
       "  </tbody>\n",
       "</table>\n",
       "</div>"
      ],
      "text/plain": [
       "             normal  malignant    benign\n",
       "benign     0.001266   0.017722  0.981013\n",
       "malignant  0.000000   0.936538  0.063462\n",
       "normal     0.984000   0.004000  0.012000"
      ]
     },
     "execution_count": 3,
     "metadata": {},
     "output_type": "execute_result"
    }
   ],
   "source": [
    "import globals\n",
    "import os\n",
    "import pandas as pd\n",
    "\n",
    "# Loads confusion matrices from each CV, calculates the mean and standard deviation\n",
    "# and saves them to a file\n",
    "\n",
    "name = \"masked\"\n",
    "RANDOM_INIT_EXP_NAMES = [f\"{name}-random-{seed}\" for seed in globals.SEEDS]\n",
    "paths = [os.path.join(globals.BASE_PATH, \"experiments\", n, f\"conf_matrix_{n}.csv\") for n in RANDOM_INIT_EXP_NAMES]\n",
    "\n",
    "conf_matrices = [pd.read_csv(path, index_col=0) for path in paths]\n",
    "\n",
    "mean_conf_matrix = pd.concat(conf_matrices).groupby(level=0).mean()\n",
    "std_conf_matrix = pd.concat(conf_matrices).groupby(level=0).std()\n",
    "\n",
    "mean_conf_matrix"
   ]
  },
  {
   "cell_type": "code",
   "execution_count": 4,
   "metadata": {},
   "outputs": [
    {
     "data": {
      "text/html": [
       "<div>\n",
       "<style scoped>\n",
       "    .dataframe tbody tr th:only-of-type {\n",
       "        vertical-align: middle;\n",
       "    }\n",
       "\n",
       "    .dataframe tbody tr th {\n",
       "        vertical-align: top;\n",
       "    }\n",
       "\n",
       "    .dataframe thead th {\n",
       "        text-align: right;\n",
       "    }\n",
       "</style>\n",
       "<table border=\"1\" class=\"dataframe\">\n",
       "  <thead>\n",
       "    <tr style=\"text-align: right;\">\n",
       "      <th></th>\n",
       "      <th>normal</th>\n",
       "      <th>malignant</th>\n",
       "      <th>benign</th>\n",
       "    </tr>\n",
       "  </thead>\n",
       "  <tbody>\n",
       "    <tr>\n",
       "      <th>benign</th>\n",
       "      <td>0.004003</td>\n",
       "      <td>0.013607</td>\n",
       "      <td>0.012302</td>\n",
       "    </tr>\n",
       "    <tr>\n",
       "      <th>malignant</th>\n",
       "      <td>0.000000</td>\n",
       "      <td>0.020372</td>\n",
       "      <td>0.020372</td>\n",
       "    </tr>\n",
       "    <tr>\n",
       "      <th>normal</th>\n",
       "      <td>0.027968</td>\n",
       "      <td>0.012649</td>\n",
       "      <td>0.026998</td>\n",
       "    </tr>\n",
       "  </tbody>\n",
       "</table>\n",
       "</div>"
      ],
      "text/plain": [
       "             normal  malignant    benign\n",
       "benign     0.004003   0.013607  0.012302\n",
       "malignant  0.000000   0.020372  0.020372\n",
       "normal     0.027968   0.012649  0.026998"
      ]
     },
     "execution_count": 4,
     "metadata": {},
     "output_type": "execute_result"
    }
   ],
   "source": [
    "std_conf_matrix"
   ]
  },
  {
   "cell_type": "code",
   "execution_count": 5,
   "metadata": {},
   "outputs": [
    {
     "name": "stdout",
     "output_type": "stream",
     "text": [
      "Overall mean accuracy: 0.9666666666666668\n",
      "Overall std accuracy: 0.017502443077301467\n"
     ]
    }
   ],
   "source": [
    "overall_mean_acc = (n_normal * mean_conf_matrix['normal']['normal'] + n_malignant * mean_conf_matrix['malignant']['malignant'] + n_benign * mean_conf_matrix['benign']['benign']) / (n_normal + n_malignant + n_benign)\n",
    "overall_std_acc = (n_normal * std_conf_matrix['normal']['normal'] + n_malignant * std_conf_matrix['malignant']['malignant'] + n_benign * std_conf_matrix['benign']['benign']) / (n_normal + n_malignant + n_benign)\n",
    "\n",
    "print(\"Overall mean accuracy:\", overall_mean_acc)\n",
    "print(\"Overall std accuracy:\", overall_std_acc)\n",
    "\n",
    "mean_conf_matrix.to_csv(f\"../results/{name}_mean_conf_matrix.csv\")\n",
    "std_conf_matrix.to_csv(f\"../results/{name}_std_conf_matrix.csv\")\n",
    "\n",
    "with open(f\"../results/{name}_mean_acc.txt\", \"w\") as f:\n",
    "    f.write(str(overall_mean_acc))\n",
    "\n",
    "with open(f\"../results/{name}_std_acc.txt\", \"w\") as f:\n",
    "    f.write(str(overall_std_acc))"
   ]
  },
  {
   "cell_type": "code",
   "execution_count": 15,
   "metadata": {},
   "outputs": [],
   "source": []
  }
 ],
 "metadata": {
  "kernelspec": {
   "display_name": "Python 3",
   "language": "python",
   "name": "python3"
  },
  "language_info": {
   "codemirror_mode": {
    "name": "ipython",
    "version": 3
   },
   "file_extension": ".py",
   "mimetype": "text/x-python",
   "name": "python",
   "nbconvert_exporter": "python",
   "pygments_lexer": "ipython3",
   "version": "3.10.6"
  },
  "orig_nbformat": 4,
  "vscode": {
   "interpreter": {
    "hash": "31f2aee4e71d21fbe5cf8b01ff0e069b9275f58929596ceb00d14d90e3e16cd6"
   }
  }
 },
 "nbformat": 4,
 "nbformat_minor": 2
}
