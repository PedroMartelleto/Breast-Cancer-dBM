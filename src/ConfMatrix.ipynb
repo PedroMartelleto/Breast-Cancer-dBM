{
 "cells": [
  {
   "cell_type": "code",
   "execution_count": 2,
   "metadata": {},
   "outputs": [
    {
     "name": "stdout",
     "output_type": "stream",
     "text": [
      "Collecting pandas\n",
      "  Downloading https://files.pythonhosted.org/packages/c3/e2/00cacecafbab071c787019f00ad84ca3185952f6bb9bca9550ed83870d4d/pandas-1.1.5-cp36-cp36m-manylinux1_x86_64.whl (9.5MB)\n",
      "\u001b[K    100% |████████████████████████████████| 9.5MB 80kB/s eta 0:00:01\n",
      "\u001b[?25hCollecting python-dateutil>=2.7.3 (from pandas)\n",
      "  Using cached https://files.pythonhosted.org/packages/36/7a/87837f39d0296e723bb9b62bbb257d0355c7f6128853c78955f57342a56d/python_dateutil-2.8.2-py2.py3-none-any.whl\n",
      "Collecting pytz>=2017.2 (from pandas)\n",
      "  Downloading https://files.pythonhosted.org/packages/85/ac/92f998fc52a70afd7f6b788142632afb27cd60c8c782d1452b7466603332/pytz-2022.6-py2.py3-none-any.whl (498kB)\n",
      "\u001b[K    100% |████████████████████████████████| 501kB 270kB/s ta 0:00:01\n",
      "\u001b[?25hCollecting numpy>=1.15.4 (from pandas)\n",
      "  Downloading https://files.pythonhosted.org/packages/45/b2/6c7545bb7a38754d63048c7696804a0d947328125d81bf12beaa692c3ae3/numpy-1.19.5-cp36-cp36m-manylinux1_x86_64.whl (13.4MB)\n",
      "\u001b[K    100% |████████████████████████████████| 13.4MB 61kB/s eta 0:00:011\n",
      "\u001b[?25hCollecting six>=1.5 (from python-dateutil>=2.7.3->pandas)\n",
      "  Using cached https://files.pythonhosted.org/packages/d9/5a/e7c31adbe875f2abbb91bd84cf2dc52d792b5a01506781dbcf25c91daf11/six-1.16.0-py2.py3-none-any.whl\n",
      "Installing collected packages: six, python-dateutil, pytz, numpy, pandas\n",
      "Successfully installed numpy-1.19.5 pandas-1.1.5 python-dateutil-2.8.2 pytz-2022.6 six-1.16.0\n"
     ]
    },
    {
     "data": {
      "text/html": [
       "<div>\n",
       "<style scoped>\n",
       "    .dataframe tbody tr th:only-of-type {\n",
       "        vertical-align: middle;\n",
       "    }\n",
       "\n",
       "    .dataframe tbody tr th {\n",
       "        vertical-align: top;\n",
       "    }\n",
       "\n",
       "    .dataframe thead th {\n",
       "        text-align: right;\n",
       "    }\n",
       "</style>\n",
       "<table border=\"1\" class=\"dataframe\">\n",
       "  <thead>\n",
       "    <tr style=\"text-align: right;\">\n",
       "      <th></th>\n",
       "      <th>benign</th>\n",
       "      <th>malignant</th>\n",
       "      <th>normal</th>\n",
       "    </tr>\n",
       "  </thead>\n",
       "  <tbody>\n",
       "    <tr>\n",
       "      <th>benign</th>\n",
       "      <td>0.940271</td>\n",
       "      <td>0.036813</td>\n",
       "      <td>0.022917</td>\n",
       "    </tr>\n",
       "    <tr>\n",
       "      <th>malignant</th>\n",
       "      <td>0.056763</td>\n",
       "      <td>0.933934</td>\n",
       "      <td>0.009302</td>\n",
       "    </tr>\n",
       "    <tr>\n",
       "      <th>normal</th>\n",
       "      <td>0.089188</td>\n",
       "      <td>0.013793</td>\n",
       "      <td>0.897019</td>\n",
       "    </tr>\n",
       "  </tbody>\n",
       "</table>\n",
       "</div>"
      ],
      "text/plain": [
       "             benign  malignant    normal\n",
       "benign     0.940271   0.036813  0.022917\n",
       "malignant  0.056763   0.933934  0.009302\n",
       "normal     0.089188   0.013793  0.897019"
      ]
     },
     "execution_count": 2,
     "metadata": {},
     "output_type": "execute_result"
    }
   ],
   "source": [
    "import globals\n",
    "import os\n",
    "import pandas as pd\n",
    "\n",
    "# Loads confusion matrices from each CV, calculates the mean and standard deviation\n",
    "# and saves them to a file\n",
    "\n",
    "paths = [os.path.join(globals.BASE_PATH, \"experiments\", globals.CV_EXP_NAMES[fold], f\"conf_matrix_cv_{fold}.csv\") for fold in range(5)]\n",
    "\n",
    "conf_matrices = [pd.read_csv(path, index_col=0) for path in paths]\n",
    "\n",
    "mean_conf_matrix = pd.concat(conf_matrices).groupby(level=0).mean()\n",
    "std_conf_matrix = pd.concat(conf_matrices).groupby(level=0).std()\n",
    "\n",
    "mean_conf_matrix"
   ]
  },
  {
   "cell_type": "code",
   "execution_count": 3,
   "metadata": {},
   "outputs": [
    {
     "data": {
      "text/html": [
       "<div>\n",
       "<style scoped>\n",
       "    .dataframe tbody tr th:only-of-type {\n",
       "        vertical-align: middle;\n",
       "    }\n",
       "\n",
       "    .dataframe tbody tr th {\n",
       "        vertical-align: top;\n",
       "    }\n",
       "\n",
       "    .dataframe thead th {\n",
       "        text-align: right;\n",
       "    }\n",
       "</style>\n",
       "<table border=\"1\" class=\"dataframe\">\n",
       "  <thead>\n",
       "    <tr style=\"text-align: right;\">\n",
       "      <th></th>\n",
       "      <th>benign</th>\n",
       "      <th>malignant</th>\n",
       "      <th>normal</th>\n",
       "    </tr>\n",
       "  </thead>\n",
       "  <tbody>\n",
       "    <tr>\n",
       "      <th>benign</th>\n",
       "      <td>0.070067</td>\n",
       "      <td>0.035187</td>\n",
       "      <td>0.036384</td>\n",
       "    </tr>\n",
       "    <tr>\n",
       "      <th>malignant</th>\n",
       "      <td>0.045362</td>\n",
       "      <td>0.062245</td>\n",
       "      <td>0.020801</td>\n",
       "    </tr>\n",
       "    <tr>\n",
       "      <th>normal</th>\n",
       "      <td>0.068689</td>\n",
       "      <td>0.030842</td>\n",
       "      <td>0.098632</td>\n",
       "    </tr>\n",
       "  </tbody>\n",
       "</table>\n",
       "</div>"
      ],
      "text/plain": [
       "             benign  malignant    normal\n",
       "benign     0.070067   0.035187  0.036384\n",
       "malignant  0.045362   0.062245  0.020801\n",
       "normal     0.068689   0.030842  0.098632"
      ]
     },
     "execution_count": 3,
     "metadata": {},
     "output_type": "execute_result"
    }
   ],
   "source": [
    "std_conf_matrix"
   ]
  },
  {
   "cell_type": "code",
   "execution_count": null,
   "metadata": {},
   "outputs": [],
   "source": [
    "mean_conf_matrix.to_csv(\"mean_conf_matrix.csv\")\n",
    "std_conf_matrix.to_csv(\"std_conf_matrix.csv\")"
   ]
  }
 ],
 "metadata": {
  "kernelspec": {
   "display_name": "Python 3",
   "language": "python",
   "name": "python3"
  },
  "language_info": {
   "codemirror_mode": {
    "name": "ipython",
    "version": 3
   },
   "file_extension": ".py",
   "mimetype": "text/x-python",
   "name": "python",
   "nbconvert_exporter": "python",
   "pygments_lexer": "ipython3",
   "version": "3.6.9"
  },
  "orig_nbformat": 4,
  "vscode": {
   "interpreter": {
    "hash": "31f2aee4e71d21fbe5cf8b01ff0e069b9275f58929596ceb00d14d90e3e16cd6"
   }
  }
 },
 "nbformat": 4,
 "nbformat_minor": 2
}
