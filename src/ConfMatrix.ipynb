{
 "cells": [
  {
   "cell_type": "code",
   "execution_count": 7,
   "metadata": {},
   "outputs": [
    {
     "name": "stdout",
     "output_type": "stream",
     "text": [
      "The autoreload extension is already loaded. To reload it, use:\n",
      "  %reload_ext autoreload\n"
     ]
    }
   ],
   "source": [
    "%load_ext autoreload\n",
    "%autoreload 2"
   ]
  },
  {
   "cell_type": "code",
   "execution_count": 18,
   "metadata": {},
   "outputs": [
    {
     "name": "stdout",
     "output_type": "stream",
     "text": [
      "normal 31\n",
      "malignant 39\n",
      "benign 86\n"
     ]
    }
   ],
   "source": [
    "# Count number of files in test set\n",
    "import os\n",
    "from pathlib import Path\n",
    "from globals import TEST_DS_PATH\n",
    "\n",
    "# Count number of files in test set\n",
    "def count_files(path):\n",
    "    return len(list(Path(path).glob(\"*\")))\n",
    "\n",
    "n_normal = count_files(f\"{TEST_DS_PATH}/normal\")\n",
    "n_malignant = count_files(f\"{TEST_DS_PATH}/malignant\")\n",
    "n_benign = count_files(f\"{TEST_DS_PATH}/benign\")\n",
    "\n",
    "print(\"normal\", n_normal)\n",
    "print(\"malignant\", n_malignant)\n",
    "print(\"benign\", n_benign)\n"
   ]
  },
  {
   "cell_type": "code",
   "execution_count": 20,
   "metadata": {},
   "outputs": [
    {
     "data": {
      "text/html": [
       "<div>\n",
       "<style scoped>\n",
       "    .dataframe tbody tr th:only-of-type {\n",
       "        vertical-align: middle;\n",
       "    }\n",
       "\n",
       "    .dataframe tbody tr th {\n",
       "        vertical-align: top;\n",
       "    }\n",
       "\n",
       "    .dataframe thead th {\n",
       "        text-align: right;\n",
       "    }\n",
       "</style>\n",
       "<table border=\"1\" class=\"dataframe\">\n",
       "  <thead>\n",
       "    <tr style=\"text-align: right;\">\n",
       "      <th></th>\n",
       "      <th>benign</th>\n",
       "      <th>malignant</th>\n",
       "      <th>normal</th>\n",
       "    </tr>\n",
       "  </thead>\n",
       "  <tbody>\n",
       "    <tr>\n",
       "      <th>benign</th>\n",
       "      <td>0.800000</td>\n",
       "      <td>0.105814</td>\n",
       "      <td>0.094186</td>\n",
       "    </tr>\n",
       "    <tr>\n",
       "      <th>malignant</th>\n",
       "      <td>0.176923</td>\n",
       "      <td>0.784615</td>\n",
       "      <td>0.038462</td>\n",
       "    </tr>\n",
       "    <tr>\n",
       "      <th>normal</th>\n",
       "      <td>0.116129</td>\n",
       "      <td>0.035484</td>\n",
       "      <td>0.848387</td>\n",
       "    </tr>\n",
       "  </tbody>\n",
       "</table>\n",
       "</div>"
      ],
      "text/plain": [
       "             benign  malignant    normal\n",
       "benign     0.800000   0.105814  0.094186\n",
       "malignant  0.176923   0.784615  0.038462\n",
       "normal     0.116129   0.035484  0.848387"
      ]
     },
     "execution_count": 20,
     "metadata": {},
     "output_type": "execute_result"
    }
   ],
   "source": [
    "import globals\n",
    "import os\n",
    "import pandas as pd\n",
    "\n",
    "# Loads confusion matrices from each CV, calculates the mean and standard deviation\n",
    "# and saves them to a file\n",
    "\n",
    "RANDOM_INIT_EXP_NAMES = [f\"noimagenet-random-{seed}\" for seed in globals.SEEDS]\n",
    "paths = [os.path.join(globals.BASE_PATH, \"experiments\", n, f\"conf_matrix_{n}.csv\") for n in RANDOM_INIT_EXP_NAMES]\n",
    "\n",
    "conf_matrices = [pd.read_csv(path, index_col=0) for path in paths]\n",
    "\n",
    "mean_conf_matrix = pd.concat(conf_matrices).groupby(level=0).mean()\n",
    "std_conf_matrix = pd.concat(conf_matrices).groupby(level=0).std()\n",
    "\n",
    "mean_conf_matrix"
   ]
  },
  {
   "cell_type": "code",
   "execution_count": 21,
   "metadata": {},
   "outputs": [
    {
     "data": {
      "text/html": [
       "<div>\n",
       "<style scoped>\n",
       "    .dataframe tbody tr th:only-of-type {\n",
       "        vertical-align: middle;\n",
       "    }\n",
       "\n",
       "    .dataframe tbody tr th {\n",
       "        vertical-align: top;\n",
       "    }\n",
       "\n",
       "    .dataframe thead th {\n",
       "        text-align: right;\n",
       "    }\n",
       "</style>\n",
       "<table border=\"1\" class=\"dataframe\">\n",
       "  <thead>\n",
       "    <tr style=\"text-align: right;\">\n",
       "      <th></th>\n",
       "      <th>benign</th>\n",
       "      <th>malignant</th>\n",
       "      <th>normal</th>\n",
       "    </tr>\n",
       "  </thead>\n",
       "  <tbody>\n",
       "    <tr>\n",
       "      <th>benign</th>\n",
       "      <td>0.048037</td>\n",
       "      <td>0.042264</td>\n",
       "      <td>0.024788</td>\n",
       "    </tr>\n",
       "    <tr>\n",
       "      <th>malignant</th>\n",
       "      <td>0.067786</td>\n",
       "      <td>0.061870</td>\n",
       "      <td>0.045629</td>\n",
       "    </tr>\n",
       "    <tr>\n",
       "      <th>normal</th>\n",
       "      <td>0.064874</td>\n",
       "      <td>0.035500</td>\n",
       "      <td>0.066371</td>\n",
       "    </tr>\n",
       "  </tbody>\n",
       "</table>\n",
       "</div>"
      ],
      "text/plain": [
       "             benign  malignant    normal\n",
       "benign     0.048037   0.042264  0.024788\n",
       "malignant  0.067786   0.061870  0.045629\n",
       "normal     0.064874   0.035500  0.066371"
      ]
     },
     "execution_count": 21,
     "metadata": {},
     "output_type": "execute_result"
    }
   ],
   "source": [
    "std_conf_matrix"
   ]
  },
  {
   "cell_type": "code",
   "execution_count": 22,
   "metadata": {},
   "outputs": [
    {
     "name": "stdout",
     "output_type": "stream",
     "text": [
      "Overall mean accuracy: 0.8057692307692307\n",
      "Overall std accuracy: 0.05513857025856765\n"
     ]
    }
   ],
   "source": [
    "overall_mean_acc = (n_normal * mean_conf_matrix['normal']['normal'] + n_malignant * mean_conf_matrix['malignant']['malignant'] + n_benign * mean_conf_matrix['benign']['benign']) / (n_normal + n_malignant + n_benign)\n",
    "overall_std_acc = (n_normal * std_conf_matrix['normal']['normal'] + n_malignant * std_conf_matrix['malignant']['malignant'] + n_benign * std_conf_matrix['benign']['benign']) / (n_normal + n_malignant + n_benign)\n",
    "\n",
    "print(\"Overall mean accuracy:\", overall_mean_acc)\n",
    "print(\"Overall std accuracy:\", overall_std_acc)\n",
    "\n",
    "name = \"nofinetune\"\n",
    "\n",
    "mean_conf_matrix.to_csv(f\"../results/{name}_mean_conf_matrix.csv\")\n",
    "std_conf_matrix.to_csv(f\"../results/{name}_std_conf_matrix.csv\")\n",
    "\n",
    "with open(f\"../results/{name}_mean_acc.txt\", \"w\") as f:\n",
    "    f.write(str(overall_mean_acc))\n",
    "\n",
    "with open(f\"../results/{name}_std_acc.txt\", \"w\") as f:\n",
    "    f.write(str(overall_std_acc))"
   ]
  },
  {
   "cell_type": "code",
   "execution_count": 15,
   "metadata": {},
   "outputs": [],
   "source": []
  }
 ],
 "metadata": {
  "kernelspec": {
   "display_name": "Python 3",
   "language": "python",
   "name": "python3"
  },
  "language_info": {
   "codemirror_mode": {
    "name": "ipython",
    "version": 3
   },
   "file_extension": ".py",
   "mimetype": "text/x-python",
   "name": "python",
   "nbconvert_exporter": "python",
   "pygments_lexer": "ipython3",
   "version": "3.6.9 (default, Jun 29 2022, 11:45:57) \n[GCC 8.4.0]"
  },
  "orig_nbformat": 4,
  "vscode": {
   "interpreter": {
    "hash": "31f2aee4e71d21fbe5cf8b01ff0e069b9275f58929596ceb00d14d90e3e16cd6"
   }
  }
 },
 "nbformat": 4,
 "nbformat_minor": 2
}
